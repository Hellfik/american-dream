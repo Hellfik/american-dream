{
 "cells": [
  {
   "cell_type": "markdown",
   "metadata": {},
   "source": [
    " # DATA CLEANING"
   ]
  },
  {
   "cell_type": "markdown",
   "metadata": {},
   "source": [
    "## 0. Set up"
   ]
  },
  {
   "cell_type": "markdown",
   "metadata": {},
   "source": [
    "### Setting up the environment"
   ]
  },
  {
   "cell_type": "code",
   "execution_count": 1,
   "metadata": {},
   "outputs": [],
   "source": [
    "#Pour que python reconnaisse un dossier comme un module il faut ajouter en son sein un chicchier __init__.py \n",
    "#et également l'ajouter au PATH\n",
    "import pandas as pd\n",
    "import seaborn as sns\n",
    "from scipy.stats import zscore\n",
    "import sys\n",
    "sys.path.insert(0, \"/home/apprenant/Documents/simplon_dev/pyhon_sql/american-dream\")\n",
    "\n",
    "\n",
    "#On peut ensuite importer le dossier comme un module\n",
    "\n",
    "from src.d00_utils.sqlite_utils import db_connect, save_to_database"
   ]
  },
  {
   "cell_type": "code",
   "execution_count": 2,
   "metadata": {},
   "outputs": [
    {
     "data": {
      "text/plain": "<sqlite3.Cursor at 0x7f4484486880>"
     },
     "execution_count": 2,
     "metadata": {},
     "output_type": "execute_result"
    }
   ],
   "source": [
    "# Connection with BDD version 1 (raw data lives there).\n",
    "\n",
    "con = db_connect('../Data/01_raw/american_dream_v1.db')\n",
    "cur = con.cursor()\n",
    "cur.execute('pragma encoding=UTF8')"
   ]
  },
  {
   "cell_type": "markdown",
   "metadata": {},
   "source": [
    "# 1. Reading the csv (from kaggle) file"
   ]
  },
  {
   "cell_type": "code",
   "execution_count": 3,
   "metadata": {},
   "outputs": [],
   "source": [
    "query_dfk = \"\"\"\n",
    "    SELECT * FROM dataset_kaggle\n",
    "\"\"\"\n",
    "dfk = pd.read_sql(query_dfk,con=con)"
   ]
  },
  {
   "cell_type": "markdown",
   "metadata": {},
   "source": [
    "# 2. Exploring Kaggle dataset"
   ]
  },
  {
   "cell_type": "code",
   "execution_count": 4,
   "metadata": {},
   "outputs": [
    {
     "name": "stdout",
     "output_type": "stream",
     "text": [
      "(2253, 16)\n"
     ]
    },
    {
     "data": {
      "text/html": "<div>\n<style scoped>\n    .dataframe tbody tr th:only-of-type {\n        vertical-align: middle;\n    }\n\n    .dataframe tbody tr th {\n        vertical-align: top;\n    }\n\n    .dataframe thead th {\n        text-align: right;\n    }\n</style>\n<table border=\"1\" class=\"dataframe\">\n  <thead>\n    <tr style=\"text-align: right;\">\n      <th></th>\n      <th>id</th>\n      <th>job_title</th>\n      <th>salary_estimate</th>\n      <th>job_description</th>\n      <th>rating</th>\n      <th>company_name</th>\n      <th>location</th>\n      <th>headquarters</th>\n      <th>size</th>\n      <th>founded</th>\n      <th>type_of_ownership</th>\n      <th>industry</th>\n      <th>sector</th>\n      <th>revenue</th>\n      <th>competitors</th>\n      <th>easy_apply</th>\n    </tr>\n  </thead>\n  <tbody>\n    <tr>\n      <th>0</th>\n      <td>0</td>\n      <td>Data Analyst, Center on Immigration and Justic...</td>\n      <td>$37K-$66K (Glassdoor est.)</td>\n      <td>Are you eager to roll up your sleeves and harn...</td>\n      <td>3.2</td>\n      <td>Vera Institute of Justice\\n3.2</td>\n      <td>New York, NY</td>\n      <td>New York, NY</td>\n      <td>201 to 500 employees</td>\n      <td>1961</td>\n      <td>Nonprofit Organization</td>\n      <td>Social Assistance</td>\n      <td>Non-Profit</td>\n      <td>$100 to $500 million (USD)</td>\n      <td>-1</td>\n      <td>True</td>\n    </tr>\n    <tr>\n      <th>1</th>\n      <td>1</td>\n      <td>Quality Data Analyst</td>\n      <td>$37K-$66K (Glassdoor est.)</td>\n      <td>Overview\\n\\nProvides analytical and technical ...</td>\n      <td>3.8</td>\n      <td>Visiting Nurse Service of New York\\n3.8</td>\n      <td>New York, NY</td>\n      <td>New York, NY</td>\n      <td>10000+ employees</td>\n      <td>1893</td>\n      <td>Nonprofit Organization</td>\n      <td>Health Care Services &amp; Hospitals</td>\n      <td>Health Care</td>\n      <td>$2 to $5 billion (USD)</td>\n      <td>-1</td>\n      <td>-1</td>\n    </tr>\n    <tr>\n      <th>2</th>\n      <td>2</td>\n      <td>Senior Data Analyst, Insights &amp; Analytics Team...</td>\n      <td>$37K-$66K (Glassdoor est.)</td>\n      <td>We’re looking for a Senior Data Analyst who ha...</td>\n      <td>3.4</td>\n      <td>Squarespace\\n3.4</td>\n      <td>New York, NY</td>\n      <td>New York, NY</td>\n      <td>1001 to 5000 employees</td>\n      <td>2003</td>\n      <td>Company - Private</td>\n      <td>Internet</td>\n      <td>Information Technology</td>\n      <td>Unknown / Non-Applicable</td>\n      <td>GoDaddy</td>\n      <td>-1</td>\n    </tr>\n    <tr>\n      <th>3</th>\n      <td>3</td>\n      <td>Data Analyst</td>\n      <td>$37K-$66K (Glassdoor est.)</td>\n      <td>Requisition NumberRR-0001939\\nRemote:Yes\\nWe c...</td>\n      <td>4.1</td>\n      <td>Celerity\\n4.1</td>\n      <td>New York, NY</td>\n      <td>McLean, VA</td>\n      <td>201 to 500 employees</td>\n      <td>2002</td>\n      <td>Subsidiary or Business Segment</td>\n      <td>IT Services</td>\n      <td>Information Technology</td>\n      <td>$50 to $100 million (USD)</td>\n      <td>-1</td>\n      <td>-1</td>\n    </tr>\n    <tr>\n      <th>4</th>\n      <td>4</td>\n      <td>Reporting Data Analyst</td>\n      <td>$37K-$66K (Glassdoor est.)</td>\n      <td>ABOUT FANDUEL GROUP\\n\\nFanDuel Group is a worl...</td>\n      <td>3.9</td>\n      <td>FanDuel\\n3.9</td>\n      <td>New York, NY</td>\n      <td>New York, NY</td>\n      <td>501 to 1000 employees</td>\n      <td>2009</td>\n      <td>Company - Private</td>\n      <td>Sports &amp; Recreation</td>\n      <td>Arts, Entertainment &amp; Recreation</td>\n      <td>$100 to $500 million (USD)</td>\n      <td>DraftKings</td>\n      <td>True</td>\n    </tr>\n  </tbody>\n</table>\n</div>",
      "text/plain": "   id                                          job_title  \\\n0   0  Data Analyst, Center on Immigration and Justic...   \n1   1                               Quality Data Analyst   \n2   2  Senior Data Analyst, Insights & Analytics Team...   \n3   3                                       Data Analyst   \n4   4                             Reporting Data Analyst   \n\n              salary_estimate  \\\n0  $37K-$66K (Glassdoor est.)   \n1  $37K-$66K (Glassdoor est.)   \n2  $37K-$66K (Glassdoor est.)   \n3  $37K-$66K (Glassdoor est.)   \n4  $37K-$66K (Glassdoor est.)   \n\n                                     job_description  rating  \\\n0  Are you eager to roll up your sleeves and harn...     3.2   \n1  Overview\\n\\nProvides analytical and technical ...     3.8   \n2  We’re looking for a Senior Data Analyst who ha...     3.4   \n3  Requisition NumberRR-0001939\\nRemote:Yes\\nWe c...     4.1   \n4  ABOUT FANDUEL GROUP\\n\\nFanDuel Group is a worl...     3.9   \n\n                              company_name      location  headquarters  \\\n0           Vera Institute of Justice\\n3.2  New York, NY  New York, NY   \n1  Visiting Nurse Service of New York\\n3.8  New York, NY  New York, NY   \n2                         Squarespace\\n3.4  New York, NY  New York, NY   \n3                            Celerity\\n4.1  New York, NY    McLean, VA   \n4                             FanDuel\\n3.9  New York, NY  New York, NY   \n\n                     size  founded               type_of_ownership  \\\n0    201 to 500 employees     1961          Nonprofit Organization   \n1        10000+ employees     1893          Nonprofit Organization   \n2  1001 to 5000 employees     2003               Company - Private   \n3    201 to 500 employees     2002  Subsidiary or Business Segment   \n4   501 to 1000 employees     2009               Company - Private   \n\n                           industry                            sector  \\\n0                 Social Assistance                        Non-Profit   \n1  Health Care Services & Hospitals                       Health Care   \n2                          Internet            Information Technology   \n3                       IT Services            Information Technology   \n4               Sports & Recreation  Arts, Entertainment & Recreation   \n\n                      revenue competitors easy_apply  \n0  $100 to $500 million (USD)          -1       True  \n1      $2 to $5 billion (USD)          -1         -1  \n2    Unknown / Non-Applicable     GoDaddy         -1  \n3   $50 to $100 million (USD)          -1         -1  \n4  $100 to $500 million (USD)  DraftKings       True  "
     },
     "execution_count": 4,
     "metadata": {},
     "output_type": "execute_result"
    }
   ],
   "source": [
    "print(dfk.shape)\n",
    "# We print the first five rows to analyse our dataset\n",
    "dfk.head()"
   ]
  },
  {
   "cell_type": "markdown",
   "metadata": {},
   "source": [
    "Our dataset contains **2253** rows and **16** columns"
   ]
  },
  {
   "cell_type": "code",
   "execution_count": 5,
   "metadata": {},
   "outputs": [
    {
     "data": {
      "text/plain": "Index(['id', 'job_title', 'salary_estimate', 'job_description', 'rating',\n       'company_name', 'location', 'headquarters', 'size', 'founded',\n       'type_of_ownership', 'industry', 'sector', 'revenue', 'competitors',\n       'easy_apply'],\n      dtype='object')"
     },
     "execution_count": 5,
     "metadata": {},
     "output_type": "execute_result"
    }
   ],
   "source": [
    "\"\"\"\n",
    "    We print out all the column's name to see which ones we can remove and which ones we can keep.\n",
    "    We can notice that some of columns are not necessary for our analysis.\n",
    "\"\"\"\n",
    "dfk.columns"
   ]
  },
  {
   "cell_type": "code",
   "execution_count": 6,
   "metadata": {},
   "outputs": [],
   "source": [
    "# I keep only the columns i need\n",
    "dfk = dfk.drop([\n",
    "    'job_description', \n",
    "    'rating', \n",
    "    'headquarters', \n",
    "    'size', \n",
    "    'founded', \n",
    "    'type_of_ownership', \n",
    "    'industry', \n",
    "    'sector', \n",
    "    'revenue', \n",
    "    'competitors', \n",
    "    'easy_apply'\n",
    "],axis=1)"
   ]
  },
  {
   "cell_type": "markdown",
   "metadata": {},
   "source": [
    "# 3. Checking for missing values"
   ]
  },
  {
   "cell_type": "code",
   "execution_count": 7,
   "metadata": {},
   "outputs": [
    {
     "name": "stdout",
     "output_type": "stream",
     "text": [
      "id                 0\n",
      "job_title          0\n",
      "salary_estimate    0\n",
      "company_name       1\n",
      "location           0\n",
      "dtype: int64\n",
      "(2253, 5)\n"
     ]
    }
   ],
   "source": [
    "print(dfk.isnull().sum())\n",
    "print(dfk.shape)"
   ]
  },
  {
   "cell_type": "markdown",
   "metadata": {},
   "source": [
    "We notice there are almost no missing value in this dataset. Only one to be exact which is a missing company name. We could just delete the row with that missing value. It won't change our analysis at all. "
   ]
  },
  {
   "cell_type": "code",
   "execution_count": 8,
   "metadata": {},
   "outputs": [
    {
     "name": "stdout",
     "output_type": "stream",
     "text": [
      "(2252, 5)\n"
     ]
    }
   ],
   "source": [
    "dfk = dfk.dropna()\n",
    "print(dfk.shape)"
   ]
  },
  {
   "cell_type": "markdown",
   "metadata": {},
   "source": [
    "# 4. Data type processing"
   ]
  },
  {
   "cell_type": "code",
   "execution_count": 9,
   "metadata": {},
   "outputs": [
    {
     "name": "stdout",
     "output_type": "stream",
     "text": [
      "id                  int64\n",
      "job_title          object\n",
      "salary_estimate    object\n",
      "company_name       object\n",
      "location           object\n",
      "dtype: object\n"
     ]
    },
    {
     "data": {
      "text/html": "<div>\n<style scoped>\n    .dataframe tbody tr th:only-of-type {\n        vertical-align: middle;\n    }\n\n    .dataframe tbody tr th {\n        vertical-align: top;\n    }\n\n    .dataframe thead th {\n        text-align: right;\n    }\n</style>\n<table border=\"1\" class=\"dataframe\">\n  <thead>\n    <tr style=\"text-align: right;\">\n      <th></th>\n      <th>id</th>\n      <th>job_title</th>\n      <th>salary_estimate</th>\n      <th>company_name</th>\n      <th>location</th>\n    </tr>\n  </thead>\n  <tbody>\n    <tr>\n      <th>0</th>\n      <td>0</td>\n      <td>Data Analyst, Center on Immigration and Justic...</td>\n      <td>$37K-$66K (Glassdoor est.)</td>\n      <td>Vera Institute of Justice\\n3.2</td>\n      <td>New York, NY</td>\n    </tr>\n    <tr>\n      <th>1</th>\n      <td>1</td>\n      <td>Quality Data Analyst</td>\n      <td>$37K-$66K (Glassdoor est.)</td>\n      <td>Visiting Nurse Service of New York\\n3.8</td>\n      <td>New York, NY</td>\n    </tr>\n    <tr>\n      <th>2</th>\n      <td>2</td>\n      <td>Senior Data Analyst, Insights &amp; Analytics Team...</td>\n      <td>$37K-$66K (Glassdoor est.)</td>\n      <td>Squarespace\\n3.4</td>\n      <td>New York, NY</td>\n    </tr>\n    <tr>\n      <th>3</th>\n      <td>3</td>\n      <td>Data Analyst</td>\n      <td>$37K-$66K (Glassdoor est.)</td>\n      <td>Celerity\\n4.1</td>\n      <td>New York, NY</td>\n    </tr>\n    <tr>\n      <th>4</th>\n      <td>4</td>\n      <td>Reporting Data Analyst</td>\n      <td>$37K-$66K (Glassdoor est.)</td>\n      <td>FanDuel\\n3.9</td>\n      <td>New York, NY</td>\n    </tr>\n  </tbody>\n</table>\n</div>",
      "text/plain": "   id                                          job_title  \\\n0   0  Data Analyst, Center on Immigration and Justic...   \n1   1                               Quality Data Analyst   \n2   2  Senior Data Analyst, Insights & Analytics Team...   \n3   3                                       Data Analyst   \n4   4                             Reporting Data Analyst   \n\n              salary_estimate                             company_name  \\\n0  $37K-$66K (Glassdoor est.)           Vera Institute of Justice\\n3.2   \n1  $37K-$66K (Glassdoor est.)  Visiting Nurse Service of New York\\n3.8   \n2  $37K-$66K (Glassdoor est.)                         Squarespace\\n3.4   \n3  $37K-$66K (Glassdoor est.)                            Celerity\\n4.1   \n4  $37K-$66K (Glassdoor est.)                             FanDuel\\n3.9   \n\n       location  \n0  New York, NY  \n1  New York, NY  \n2  New York, NY  \n3  New York, NY  \n4  New York, NY  "
     },
     "execution_count": 9,
     "metadata": {},
     "output_type": "execute_result"
    }
   ],
   "source": [
    "print(dfk.dtypes)\n",
    "dfk.head()"
   ]
  },
  {
   "cell_type": "markdown",
   "metadata": {},
   "source": [
    "There is one major problem with our data types here. Our main goal is to analyse the salary based on the salary_estimate columns. However, that column is an object data type, we can't performe any aggregate function on it. We have to transform this data into an exploitable data(int in our case). "
   ]
  },
  {
   "cell_type": "code",
   "execution_count": 10,
   "metadata": {},
   "outputs": [],
   "source": [
    "#Lambda function to remove the (Glassdoor est.) from the row\n",
    "estimate = dfk[\"salary_estimate\"].apply(lambda x: x.split(\"(\")[0])\n",
    "#Takes out the dollar sign and k off of the numbers\n",
    "estimate = estimate.replace({\"\\$\" : \"\",\"K\" : \"\"},regex = True)"
   ]
  },
  {
   "cell_type": "markdown",
   "metadata": {},
   "source": [
    "Now that we have transformed our salary_estimate column into a nicer way for data analysis, we still need to split the data into two new columns. One that will hold the min estimation and one with the max."
   ]
  },
  {
   "cell_type": "code",
   "execution_count": 11,
   "metadata": {},
   "outputs": [
    {
     "data": {
      "text/html": "<div>\n<style scoped>\n    .dataframe tbody tr th:only-of-type {\n        vertical-align: middle;\n    }\n\n    .dataframe tbody tr th {\n        vertical-align: top;\n    }\n\n    .dataframe thead th {\n        text-align: right;\n    }\n</style>\n<table border=\"1\" class=\"dataframe\">\n  <thead>\n    <tr style=\"text-align: right;\">\n      <th></th>\n      <th>id</th>\n      <th>job_title</th>\n      <th>salary_estimate</th>\n      <th>company_name</th>\n      <th>location</th>\n      <th>min_salary</th>\n      <th>max_salary</th>\n    </tr>\n  </thead>\n  <tbody>\n    <tr>\n      <th>0</th>\n      <td>0</td>\n      <td>Data Analyst, Center on Immigration and Justic...</td>\n      <td>$37K-$66K (Glassdoor est.)</td>\n      <td>Vera Institute of Justice\\n3.2</td>\n      <td>New York, NY</td>\n      <td>37000.0</td>\n      <td>66000</td>\n    </tr>\n    <tr>\n      <th>1</th>\n      <td>1</td>\n      <td>Quality Data Analyst</td>\n      <td>$37K-$66K (Glassdoor est.)</td>\n      <td>Visiting Nurse Service of New York\\n3.8</td>\n      <td>New York, NY</td>\n      <td>37000.0</td>\n      <td>66000</td>\n    </tr>\n    <tr>\n      <th>2</th>\n      <td>2</td>\n      <td>Senior Data Analyst, Insights &amp; Analytics Team...</td>\n      <td>$37K-$66K (Glassdoor est.)</td>\n      <td>Squarespace\\n3.4</td>\n      <td>New York, NY</td>\n      <td>37000.0</td>\n      <td>66000</td>\n    </tr>\n    <tr>\n      <th>3</th>\n      <td>3</td>\n      <td>Data Analyst</td>\n      <td>$37K-$66K (Glassdoor est.)</td>\n      <td>Celerity\\n4.1</td>\n      <td>New York, NY</td>\n      <td>37000.0</td>\n      <td>66000</td>\n    </tr>\n    <tr>\n      <th>4</th>\n      <td>4</td>\n      <td>Reporting Data Analyst</td>\n      <td>$37K-$66K (Glassdoor est.)</td>\n      <td>FanDuel\\n3.9</td>\n      <td>New York, NY</td>\n      <td>37000.0</td>\n      <td>66000</td>\n    </tr>\n  </tbody>\n</table>\n</div>",
      "text/plain": "   id                                          job_title  \\\n0   0  Data Analyst, Center on Immigration and Justic...   \n1   1                               Quality Data Analyst   \n2   2  Senior Data Analyst, Insights & Analytics Team...   \n3   3                                       Data Analyst   \n4   4                             Reporting Data Analyst   \n\n              salary_estimate                             company_name  \\\n0  $37K-$66K (Glassdoor est.)           Vera Institute of Justice\\n3.2   \n1  $37K-$66K (Glassdoor est.)  Visiting Nurse Service of New York\\n3.8   \n2  $37K-$66K (Glassdoor est.)                         Squarespace\\n3.4   \n3  $37K-$66K (Glassdoor est.)                            Celerity\\n4.1   \n4  $37K-$66K (Glassdoor est.)                             FanDuel\\n3.9   \n\n       location  min_salary  max_salary  \n0  New York, NY     37000.0       66000  \n1  New York, NY     37000.0       66000  \n2  New York, NY     37000.0       66000  \n3  New York, NY     37000.0       66000  \n4  New York, NY     37000.0       66000  "
     },
     "execution_count": 11,
     "metadata": {},
     "output_type": "execute_result"
    }
   ],
   "source": [
    "dfk['min_salary'] = estimate.apply(lambda x: x.split(\"-\")[0])\n",
    "dfk['max_salary'] = estimate.apply(lambda x: x.split(\"-\")[1])\n",
    "\n",
    "dfk['min_salary'] = pd.to_numeric(dfk['min_salary'])\n",
    "dfk['max_salary'] = pd.to_numeric(dfk['max_salary'])\n",
    "\n",
    "dfk['min_salary'] = dfk['min_salary'].apply(lambda x: x * 1000)\n",
    "dfk['max_salary'] = dfk['max_salary'].apply(lambda x: x * 1000)\n",
    "\n",
    "dfk.head()"
   ]
  },
  {
   "cell_type": "markdown",
   "metadata": {},
   "source": [
    "The company_name column needs some reworks aswell, we can remove the new line (\\n) and the rating."
   ]
  },
  {
   "cell_type": "code",
   "execution_count": 12,
   "metadata": {},
   "outputs": [
    {
     "data": {
      "text/html": "<div>\n<style scoped>\n    .dataframe tbody tr th:only-of-type {\n        vertical-align: middle;\n    }\n\n    .dataframe tbody tr th {\n        vertical-align: top;\n    }\n\n    .dataframe thead th {\n        text-align: right;\n    }\n</style>\n<table border=\"1\" class=\"dataframe\">\n  <thead>\n    <tr style=\"text-align: right;\">\n      <th></th>\n      <th>id</th>\n      <th>job_title</th>\n      <th>salary_estimate</th>\n      <th>company_name</th>\n      <th>location</th>\n      <th>min_salary</th>\n      <th>max_salary</th>\n    </tr>\n  </thead>\n  <tbody>\n    <tr>\n      <th>0</th>\n      <td>0</td>\n      <td>Data Analyst, Center on Immigration and Justic...</td>\n      <td>$37K-$66K (Glassdoor est.)</td>\n      <td>Vera Institute of Justice</td>\n      <td>New York, NY</td>\n      <td>37000.0</td>\n      <td>66000</td>\n    </tr>\n    <tr>\n      <th>1</th>\n      <td>1</td>\n      <td>Quality Data Analyst</td>\n      <td>$37K-$66K (Glassdoor est.)</td>\n      <td>Visiting Nurse Service of New York</td>\n      <td>New York, NY</td>\n      <td>37000.0</td>\n      <td>66000</td>\n    </tr>\n    <tr>\n      <th>2</th>\n      <td>2</td>\n      <td>Senior Data Analyst, Insights &amp; Analytics Team...</td>\n      <td>$37K-$66K (Glassdoor est.)</td>\n      <td>Squarespace</td>\n      <td>New York, NY</td>\n      <td>37000.0</td>\n      <td>66000</td>\n    </tr>\n    <tr>\n      <th>3</th>\n      <td>3</td>\n      <td>Data Analyst</td>\n      <td>$37K-$66K (Glassdoor est.)</td>\n      <td>Celerity</td>\n      <td>New York, NY</td>\n      <td>37000.0</td>\n      <td>66000</td>\n    </tr>\n    <tr>\n      <th>4</th>\n      <td>4</td>\n      <td>Reporting Data Analyst</td>\n      <td>$37K-$66K (Glassdoor est.)</td>\n      <td>FanDuel</td>\n      <td>New York, NY</td>\n      <td>37000.0</td>\n      <td>66000</td>\n    </tr>\n  </tbody>\n</table>\n</div>",
      "text/plain": "   id                                          job_title  \\\n0   0  Data Analyst, Center on Immigration and Justic...   \n1   1                               Quality Data Analyst   \n2   2  Senior Data Analyst, Insights & Analytics Team...   \n3   3                                       Data Analyst   \n4   4                             Reporting Data Analyst   \n\n              salary_estimate                        company_name  \\\n0  $37K-$66K (Glassdoor est.)           Vera Institute of Justice   \n1  $37K-$66K (Glassdoor est.)  Visiting Nurse Service of New York   \n2  $37K-$66K (Glassdoor est.)                         Squarespace   \n3  $37K-$66K (Glassdoor est.)                            Celerity   \n4  $37K-$66K (Glassdoor est.)                             FanDuel   \n\n       location  min_salary  max_salary  \n0  New York, NY     37000.0       66000  \n1  New York, NY     37000.0       66000  \n2  New York, NY     37000.0       66000  \n3  New York, NY     37000.0       66000  \n4  New York, NY     37000.0       66000  "
     },
     "execution_count": 12,
     "metadata": {},
     "output_type": "execute_result"
    }
   ],
   "source": [
    "dfk['company_name'] = dfk['company_name'].apply(lambda x: x.split(\"\\n\")[0])\n",
    "dfk.head()"
   ]
  },
  {
   "cell_type": "markdown",
   "metadata": {},
   "source": [
    "We also could separate the state and the city name from the location column if we want to satisfy the first normal law."
   ]
  },
  {
   "cell_type": "code",
   "execution_count": 13,
   "metadata": {},
   "outputs": [
    {
     "data": {
      "text/html": "<div>\n<style scoped>\n    .dataframe tbody tr th:only-of-type {\n        vertical-align: middle;\n    }\n\n    .dataframe tbody tr th {\n        vertical-align: top;\n    }\n\n    .dataframe thead th {\n        text-align: right;\n    }\n</style>\n<table border=\"1\" class=\"dataframe\">\n  <thead>\n    <tr style=\"text-align: right;\">\n      <th></th>\n      <th>id</th>\n      <th>job_title</th>\n      <th>salary_estimate</th>\n      <th>company_name</th>\n      <th>location</th>\n      <th>min_salary</th>\n      <th>max_salary</th>\n      <th>state</th>\n    </tr>\n  </thead>\n  <tbody>\n    <tr>\n      <th>0</th>\n      <td>0</td>\n      <td>Data Analyst, Center on Immigration and Justic...</td>\n      <td>$37K-$66K (Glassdoor est.)</td>\n      <td>Vera Institute of Justice</td>\n      <td>New York</td>\n      <td>37000.0</td>\n      <td>66000</td>\n      <td>NY</td>\n    </tr>\n    <tr>\n      <th>1</th>\n      <td>1</td>\n      <td>Quality Data Analyst</td>\n      <td>$37K-$66K (Glassdoor est.)</td>\n      <td>Visiting Nurse Service of New York</td>\n      <td>New York</td>\n      <td>37000.0</td>\n      <td>66000</td>\n      <td>NY</td>\n    </tr>\n    <tr>\n      <th>2</th>\n      <td>2</td>\n      <td>Senior Data Analyst, Insights &amp; Analytics Team...</td>\n      <td>$37K-$66K (Glassdoor est.)</td>\n      <td>Squarespace</td>\n      <td>New York</td>\n      <td>37000.0</td>\n      <td>66000</td>\n      <td>NY</td>\n    </tr>\n    <tr>\n      <th>3</th>\n      <td>3</td>\n      <td>Data Analyst</td>\n      <td>$37K-$66K (Glassdoor est.)</td>\n      <td>Celerity</td>\n      <td>New York</td>\n      <td>37000.0</td>\n      <td>66000</td>\n      <td>NY</td>\n    </tr>\n    <tr>\n      <th>4</th>\n      <td>4</td>\n      <td>Reporting Data Analyst</td>\n      <td>$37K-$66K (Glassdoor est.)</td>\n      <td>FanDuel</td>\n      <td>New York</td>\n      <td>37000.0</td>\n      <td>66000</td>\n      <td>NY</td>\n    </tr>\n  </tbody>\n</table>\n</div>",
      "text/plain": "   id                                          job_title  \\\n0   0  Data Analyst, Center on Immigration and Justic...   \n1   1                               Quality Data Analyst   \n2   2  Senior Data Analyst, Insights & Analytics Team...   \n3   3                                       Data Analyst   \n4   4                             Reporting Data Analyst   \n\n              salary_estimate                        company_name  location  \\\n0  $37K-$66K (Glassdoor est.)           Vera Institute of Justice  New York   \n1  $37K-$66K (Glassdoor est.)  Visiting Nurse Service of New York  New York   \n2  $37K-$66K (Glassdoor est.)                         Squarespace  New York   \n3  $37K-$66K (Glassdoor est.)                            Celerity  New York   \n4  $37K-$66K (Glassdoor est.)                             FanDuel  New York   \n\n   min_salary  max_salary state  \n0     37000.0       66000    NY  \n1     37000.0       66000    NY  \n2     37000.0       66000    NY  \n3     37000.0       66000    NY  \n4     37000.0       66000    NY  "
     },
     "execution_count": 13,
     "metadata": {},
     "output_type": "execute_result"
    }
   ],
   "source": [
    "states = dfk['location'].apply(lambda x: x.split(\", \")[1])\n",
    "dfk['location'] = dfk['location'].apply(lambda x: x.split(\",\")[0])\n",
    "\n",
    "dfk['state'] = states.apply(lambda x: \"CO\" if \"Arapahoe\" in x else x)\n",
    "dfk['state'].value_counts().sum() # return 2252\n",
    "dfk.head()"
   ]
  },
  {
   "cell_type": "markdown",
   "metadata": {},
   "source": [
    "# 5. Outliers check"
   ]
  },
  {
   "cell_type": "code",
   "execution_count": 14,
   "metadata": {},
   "outputs": [
    {
     "data": {
      "image/png": "[encoded data removed]",
      "text/plain": "<Figure size 432x288 with 1 Axes>"
     },
     "metadata": {
      "needs_background": "light"
     },
     "output_type": "display_data"
    }
   ],
   "source": [
    "min_salary_boxplt = sns.boxplot(x=dfk[\"min_salary\"])"
   ]
  },
  {
   "cell_type": "code",
   "execution_count": 15,
   "metadata": {},
   "outputs": [
    {
     "data": {
      "text/plain": "count      2251.000000\nmean      54267.436695\nstd       19579.706082\nmin       24000.000000\n25%       41000.000000\n50%       50000.000000\n75%       64000.000000\nmax      113000.000000\nName: min_salary, dtype: float64"
     },
     "execution_count": 15,
     "metadata": {},
     "output_type": "execute_result"
    }
   ],
   "source": [
    "dfk['min_salary'].describe()"
   ]
  },
  {
   "cell_type": "code",
   "execution_count": 16,
   "metadata": {},
   "outputs": [
    {
     "data": {
      "image/png": "[encoded data removed]",
      "text/plain": "<Figure size 432x288 with 1 Axes>"
     },
     "metadata": {
      "needs_background": "light"
     },
     "output_type": "display_data"
    }
   ],
   "source": [
    "max_salary_boxplt = sns.boxplot(x=dfk[\"max_salary\"])"
   ]
  },
  {
   "cell_type": "markdown",
   "metadata": {},
   "source": [
    "We can identify severals outliers for both min and max salary. We can't really consider them as real outstanding values. They seems pretty correct. There's an execption for the max_salary where there's a value at 0 which is an incorrect value. We have to remove it."
   ]
  },
  {
   "cell_type": "code",
   "execution_count": 17,
   "metadata": {},
   "outputs": [
    {
     "data": {
      "text/plain": "count      2251.000000\nmean      89975.122168\nstd       29321.502211\nmin       38000.000000\n25%       70000.000000\n50%       87000.000000\n75%      104000.000000\nmax      190000.000000\nName: max_salary, dtype: float64"
     },
     "execution_count": 17,
     "metadata": {},
     "output_type": "execute_result"
    }
   ],
   "source": [
    "dfk = dfk[dfk['max_salary'] > 25000]\n",
    "dfk['max_salary'].describe()"
   ]
  },
  {
   "cell_type": "markdown",
   "metadata": {},
   "source": [
    "Now that we took care of the ouliers in both min and max columns, we can add a mean_salary column in our dataset."
   ]
  },
  {
   "cell_type": "code",
   "execution_count": 18,
   "metadata": {},
   "outputs": [
    {
     "data": {
      "text/html": "<div>\n<style scoped>\n    .dataframe tbody tr th:only-of-type {\n        vertical-align: middle;\n    }\n\n    .dataframe tbody tr th {\n        vertical-align: top;\n    }\n\n    .dataframe thead th {\n        text-align: right;\n    }\n</style>\n<table border=\"1\" class=\"dataframe\">\n  <thead>\n    <tr style=\"text-align: right;\">\n      <th></th>\n      <th>id</th>\n      <th>job_title</th>\n      <th>salary_estimate</th>\n      <th>company_name</th>\n      <th>location</th>\n      <th>min_salary</th>\n      <th>max_salary</th>\n      <th>state</th>\n      <th>mean_salary</th>\n    </tr>\n  </thead>\n  <tbody>\n    <tr>\n      <th>0</th>\n      <td>0</td>\n      <td>Data Analyst, Center on Immigration and Justic...</td>\n      <td>$37K-$66K (Glassdoor est.)</td>\n      <td>Vera Institute of Justice</td>\n      <td>New York</td>\n      <td>37000.0</td>\n      <td>66000</td>\n      <td>NY</td>\n      <td>51500.0</td>\n    </tr>\n    <tr>\n      <th>1</th>\n      <td>1</td>\n      <td>Quality Data Analyst</td>\n      <td>$37K-$66K (Glassdoor est.)</td>\n      <td>Visiting Nurse Service of New York</td>\n      <td>New York</td>\n      <td>37000.0</td>\n      <td>66000</td>\n      <td>NY</td>\n      <td>51500.0</td>\n    </tr>\n    <tr>\n      <th>2</th>\n      <td>2</td>\n      <td>Senior Data Analyst, Insights &amp; Analytics Team...</td>\n      <td>$37K-$66K (Glassdoor est.)</td>\n      <td>Squarespace</td>\n      <td>New York</td>\n      <td>37000.0</td>\n      <td>66000</td>\n      <td>NY</td>\n      <td>51500.0</td>\n    </tr>\n    <tr>\n      <th>3</th>\n      <td>3</td>\n      <td>Data Analyst</td>\n      <td>$37K-$66K (Glassdoor est.)</td>\n      <td>Celerity</td>\n      <td>New York</td>\n      <td>37000.0</td>\n      <td>66000</td>\n      <td>NY</td>\n      <td>51500.0</td>\n    </tr>\n    <tr>\n      <th>4</th>\n      <td>4</td>\n      <td>Reporting Data Analyst</td>\n      <td>$37K-$66K (Glassdoor est.)</td>\n      <td>FanDuel</td>\n      <td>New York</td>\n      <td>37000.0</td>\n      <td>66000</td>\n      <td>NY</td>\n      <td>51500.0</td>\n    </tr>\n  </tbody>\n</table>\n</div>",
      "text/plain": "   id                                          job_title  \\\n0   0  Data Analyst, Center on Immigration and Justic...   \n1   1                               Quality Data Analyst   \n2   2  Senior Data Analyst, Insights & Analytics Team...   \n3   3                                       Data Analyst   \n4   4                             Reporting Data Analyst   \n\n              salary_estimate                        company_name  location  \\\n0  $37K-$66K (Glassdoor est.)           Vera Institute of Justice  New York   \n1  $37K-$66K (Glassdoor est.)  Visiting Nurse Service of New York  New York   \n2  $37K-$66K (Glassdoor est.)                         Squarespace  New York   \n3  $37K-$66K (Glassdoor est.)                            Celerity  New York   \n4  $37K-$66K (Glassdoor est.)                             FanDuel  New York   \n\n   min_salary  max_salary state  mean_salary  \n0     37000.0       66000    NY      51500.0  \n1     37000.0       66000    NY      51500.0  \n2     37000.0       66000    NY      51500.0  \n3     37000.0       66000    NY      51500.0  \n4     37000.0       66000    NY      51500.0  "
     },
     "execution_count": 18,
     "metadata": {},
     "output_type": "execute_result"
    }
   ],
   "source": [
    "dfk['mean_salary'] = (dfk['min_salary'] + dfk['max_salary'] )/ 2\n",
    "dfk.head()"
   ]
  },
  {
   "cell_type": "markdown",
   "metadata": {},
   "source": [
    "Our dataset is clean we can finally store it in a new database."
   ]
  },
  {
   "cell_type": "code",
   "execution_count": 19,
   "metadata": {},
   "outputs": [
    {
     "name": "stdout",
     "output_type": "stream",
     "text": [
      "Help on function save_to_database in module src.d00_utils.sqlite_utils:\n",
      "\n",
      "save_to_database(db_name, table_name, df_name, is_index)\n",
      "\n"
     ]
    }
   ],
   "source": [
    "save_to_database('../Data/02_intermediate/american_dream_v2.db','dataset_kaggle',dfk,True)"
   ]
  }
 ],
 "metadata": {
  "kernelspec": {
   "display_name": "Python 3.8.8 64-bit ('base': conda)",
   "metadata": {
    "interpreter": {
     "hash": "5b9c502b618e97131917a2f1409b4700bb639cdf99ce16cd88a0e27a90524386"
    }
   },
   "name": "python3"
  },
  "language_info": {
   "codemirror_mode": {
    "name": "ipython",
    "version": 3
   },
   "file_extension": ".py",
   "mimetype": "text/x-python",
   "name": "python",
   "nbconvert_exporter": "python",
   "pygments_lexer": "ipython3",
   "version": "3.8.8"
  },
  "orig_nbformat": 2
 },
 "nbformat": 4,
 "nbformat_minor": 2
}