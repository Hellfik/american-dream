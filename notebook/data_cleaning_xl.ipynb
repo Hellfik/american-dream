{
 "cells": [
  {
   "cell_type": "markdown",
   "metadata": {},
   "source": [
    " # DATA CLEANING"
   ]
  },
  {
   "cell_type": "markdown",
   "metadata": {},
   "source": [
    "## 0. Set up"
   ]
  },
  {
   "cell_type": "markdown",
   "metadata": {},
   "source": [
    "### Setting up the environment"
   ]
  },
  {
   "cell_type": "markdown",
   "metadata": {},
   "source": [
    "# Import modules"
   ]
  },
  {
   "cell_type": "code",
   "execution_count": 161,
   "metadata": {},
   "outputs": [],
   "source": [
    "#Pour que python reconnaisse un dossier comme un module il faut ajouter en son sein un chicchier __init__.py \n",
    "#et également l'ajouter au PATH\n",
    "import pandas as pd\n",
    "import seaborn as sns\n",
    "from scipy.stats import zscore\n",
    "import sys\n",
    "sys.path.insert(0, \"/home/apprenant/Documents/simplon_dev/pyhon_sql/american-dream\")\n",
    "\n",
    "\n",
    "#On peut ensuite importer le dossier comme un module\n",
    "\n",
    "from src.d00_utils.sqlite_utils import db_connect, save_to_database"
   ]
  },
  {
   "cell_type": "markdown",
   "metadata": {},
   "source": [
    "# Connexion with the database"
   ]
  },
  {
   "cell_type": "code",
   "execution_count": 162,
   "metadata": {},
   "outputs": [
    {
     "data": {
      "text/plain": "<sqlite3.Cursor at 0x7fb62230b650>"
     },
     "execution_count": 162,
     "metadata": {},
     "output_type": "execute_result"
    }
   ],
   "source": [
    "# Connection with BDD version 1 (raw data lives there).\n",
    "\n",
    "con = db_connect('../Data/01_raw/american_dream_v1.db')\n",
    "cur = con.cursor()\n",
    "cur.execute('pragma encoding=UTF8')"
   ]
  },
  {
   "cell_type": "markdown",
   "metadata": {},
   "source": [
    "# Reading the excel data"
   ]
  },
  {
   "cell_type": "code",
   "execution_count": 163,
   "metadata": {},
   "outputs": [],
   "source": [
    "query_df1 = \"\"\"\n",
    "    SELECT * FROM salary_survey\n",
    "\"\"\"\n",
    "df1 = pd.read_sql(query_df1,con=con)"
   ]
  },
  {
   "cell_type": "markdown",
   "metadata": {},
   "source": [
    "# 1. Exploring the data"
   ]
  },
  {
   "cell_type": "code",
   "execution_count": 164,
   "metadata": {},
   "outputs": [
    {
     "name": "stdout",
     "output_type": "stream",
     "text": [
      "(8627, 31)\n"
     ]
    },
    {
     "data": {
      "text/html": "<div>\n<style scoped>\n    .dataframe tbody tr th:only-of-type {\n        vertical-align: middle;\n    }\n\n    .dataframe tbody tr th {\n        vertical-align: top;\n    }\n\n    .dataframe thead th {\n        text-align: right;\n    }\n</style>\n<table border=\"1\" class=\"dataframe\">\n  <thead>\n    <tr style=\"text-align: right;\">\n      <th></th>\n      <th>survey_year</th>\n      <th>timestamp</th>\n      <th>salaryusd</th>\n      <th>country</th>\n      <th>postalcode</th>\n      <th>primarydatabase</th>\n      <th>yearswiththisdatabase</th>\n      <th>otherdatabases</th>\n      <th>employmentstatus</th>\n      <th>jobtitle</th>\n      <th>...</th>\n      <th>newestversioninproduction</th>\n      <th>oldestversioninproduction</th>\n      <th>populationoflargestcitywithin20miles</th>\n      <th>employmentsector</th>\n      <th>lookingforanotherjob</th>\n      <th>careerplansthisyear</th>\n      <th>gender</th>\n      <th>otherjobduties</th>\n      <th>kindsoftasksperformed</th>\n      <th>counter</th>\n    </tr>\n  </thead>\n  <tbody>\n    <tr>\n      <th>0</th>\n      <td>2020</td>\n      <td>2020-01-04 18:50:34.328000</td>\n      <td>115000.0</td>\n      <td>United States</td>\n      <td>03</td>\n      <td>Microsoft SQL Server</td>\n      <td>15</td>\n      <td>Microsoft SQL Server, MongoDB, Azure SQL DB (a...</td>\n      <td>Full time employee</td>\n      <td>DBA (Production Focus - build &amp; troubleshoot s...</td>\n      <td>...</td>\n      <td>SQL Server 2019</td>\n      <td>SQL Server 2016</td>\n      <td>20K-99K (large town)</td>\n      <td>Private business</td>\n      <td>Not Asked</td>\n      <td>Stay with the same employer, same role</td>\n      <td>Male</td>\n      <td>Not Asked</td>\n      <td>Not Asked</td>\n      <td>1</td>\n    </tr>\n    <tr>\n      <th>1</th>\n      <td>2020</td>\n      <td>2020-01-04 10:43:01.821000</td>\n      <td>100000.0</td>\n      <td>United States</td>\n      <td>None</td>\n      <td>Other</td>\n      <td>6</td>\n      <td>MySQL/MariaDB</td>\n      <td>Full time employee</td>\n      <td>Developer: App code (C#, JS, etc)</td>\n      <td>...</td>\n      <td>informix</td>\n      <td>informix</td>\n      <td>1M+ (metropolis)</td>\n      <td>Private business</td>\n      <td>Not Asked</td>\n      <td>Prefer not to say</td>\n      <td>Male</td>\n      <td>Not Asked</td>\n      <td>Not Asked</td>\n      <td>1</td>\n    </tr>\n    <tr>\n      <th>2</th>\n      <td>2020</td>\n      <td>2020-01-04 09:51:45.885000</td>\n      <td>100000.0</td>\n      <td>Spain</td>\n      <td>28046</td>\n      <td>Microsoft SQL Server</td>\n      <td>2</td>\n      <td>MySQL/MariaDB</td>\n      <td>Full time employee</td>\n      <td>Other</td>\n      <td>...</td>\n      <td>SQL Server 2017</td>\n      <td>SQL Server 2017</td>\n      <td>1M+ (metropolis)</td>\n      <td>Private business</td>\n      <td>Not Asked</td>\n      <td>Stay with the same employer, same role</td>\n      <td>Male</td>\n      <td>Not Asked</td>\n      <td>Not Asked</td>\n      <td>1</td>\n    </tr>\n    <tr>\n      <th>3</th>\n      <td>2020</td>\n      <td>2020-01-04 01:08:53.605000</td>\n      <td>70000.0</td>\n      <td>United States</td>\n      <td>94133</td>\n      <td>Microsoft SQL Server</td>\n      <td>3</td>\n      <td>Microsoft Access</td>\n      <td>Full time employee</td>\n      <td>Analyst</td>\n      <td>...</td>\n      <td>SQL Server 2016</td>\n      <td>SQL Server 2012</td>\n      <td>1M+ (metropolis)</td>\n      <td>Private business</td>\n      <td>Not Asked</td>\n      <td>Change both employers and roles</td>\n      <td>Male</td>\n      <td>Not Asked</td>\n      <td>Not Asked</td>\n      <td>1</td>\n    </tr>\n    <tr>\n      <th>4</th>\n      <td>2020</td>\n      <td>2020-01-03 15:28:54.163000</td>\n      <td>110000.0</td>\n      <td>United States</td>\n      <td>95354</td>\n      <td>Oracle</td>\n      <td>30</td>\n      <td>Microsoft SQL Server, Oracle, MySQL/MariaDB, P...</td>\n      <td>Full time employee</td>\n      <td>DBA (General - splits time evenly between writ...</td>\n      <td>...</td>\n      <td>SQL Server 2016</td>\n      <td>SQL Server 2008R2</td>\n      <td>100K-299K (city)</td>\n      <td>Non-profit</td>\n      <td>Not Asked</td>\n      <td>Stay with the same employer, same role</td>\n      <td>Male</td>\n      <td>Not Asked</td>\n      <td>Not Asked</td>\n      <td>1</td>\n    </tr>\n  </tbody>\n</table>\n<p>5 rows × 31 columns</p>\n</div>",
      "text/plain": "   survey_year                   timestamp  salaryusd        country  \\\n0         2020  2020-01-04 18:50:34.328000   115000.0  United States   \n1         2020  2020-01-04 10:43:01.821000   100000.0  United States   \n2         2020  2020-01-04 09:51:45.885000   100000.0          Spain   \n3         2020  2020-01-04 01:08:53.605000    70000.0  United States   \n4         2020  2020-01-03 15:28:54.163000   110000.0  United States   \n\n  postalcode       primarydatabase  yearswiththisdatabase  \\\n0         03  Microsoft SQL Server                     15   \n1       None                 Other                      6   \n2      28046  Microsoft SQL Server                      2   \n3      94133  Microsoft SQL Server                      3   \n4      95354                Oracle                     30   \n\n                                      otherdatabases    employmentstatus  \\\n0  Microsoft SQL Server, MongoDB, Azure SQL DB (a...  Full time employee   \n1                                      MySQL/MariaDB  Full time employee   \n2                                      MySQL/MariaDB  Full time employee   \n3                                   Microsoft Access  Full time employee   \n4  Microsoft SQL Server, Oracle, MySQL/MariaDB, P...  Full time employee   \n\n                                            jobtitle  ...  \\\n0  DBA (Production Focus - build & troubleshoot s...  ...   \n1                  Developer: App code (C#, JS, etc)  ...   \n2                                              Other  ...   \n3                                            Analyst  ...   \n4  DBA (General - splits time evenly between writ...  ...   \n\n  newestversioninproduction  oldestversioninproduction  \\\n0           SQL Server 2019            SQL Server 2016   \n1                  informix                   informix   \n2           SQL Server 2017            SQL Server 2017   \n3           SQL Server 2016            SQL Server 2012   \n4           SQL Server 2016          SQL Server 2008R2   \n\n  populationoflargestcitywithin20miles  employmentsector lookingforanotherjob  \\\n0                 20K-99K (large town)  Private business            Not Asked   \n1                     1M+ (metropolis)  Private business            Not Asked   \n2                     1M+ (metropolis)  Private business            Not Asked   \n3                     1M+ (metropolis)  Private business            Not Asked   \n4                     100K-299K (city)        Non-profit            Not Asked   \n\n                      careerplansthisyear gender otherjobduties  \\\n0  Stay with the same employer, same role   Male      Not Asked   \n1                       Prefer not to say   Male      Not Asked   \n2  Stay with the same employer, same role   Male      Not Asked   \n3         Change both employers and roles   Male      Not Asked   \n4  Stay with the same employer, same role   Male      Not Asked   \n\n  kindsoftasksperformed counter  \n0             Not Asked       1  \n1             Not Asked       1  \n2             Not Asked       1  \n3             Not Asked       1  \n4             Not Asked       1  \n\n[5 rows x 31 columns]"
     },
     "execution_count": 164,
     "metadata": {},
     "output_type": "execute_result"
    }
   ],
   "source": [
    "print(df1.shape)\n",
    "# We print the first five rows to analyse our dataset\n",
    "df1.head()"
   ]
  },
  {
   "cell_type": "markdown",
   "metadata": {},
   "source": [
    "Our dataset contains **8627** rows and **32** columns"
   ]
  },
  {
   "cell_type": "code",
   "execution_count": 165,
   "metadata": {},
   "outputs": [
    {
     "data": {
      "text/plain": "Index(['survey_year', 'timestamp', 'salaryusd', 'country', 'postalcode',\n       'primarydatabase', 'yearswiththisdatabase', 'otherdatabases',\n       'employmentstatus', 'jobtitle', 'managestaff', 'yearswiththistypeofjob',\n       'howmanycompanies', 'otherpeopleonyourteam', 'companyemployeesoverall',\n       'databaseservers', 'education', 'educationiscomputerrelated',\n       'certifications', 'hoursworkedperweek', 'telecommutedaysperweek',\n       'newestversioninproduction', 'oldestversioninproduction',\n       'populationoflargestcitywithin20miles', 'employmentsector',\n       'lookingforanotherjob', 'careerplansthisyear', 'gender',\n       'otherjobduties', 'kindsoftasksperformed', 'counter'],\n      dtype='object')"
     },
     "execution_count": 165,
     "metadata": {},
     "output_type": "execute_result"
    }
   ],
   "source": [
    "\"\"\"\n",
    "    We print out all the column's name to see which ones we can remove and which ones we can keep.\n",
    "    We can notice that some of columns are not necessary for our analysis.\n",
    "\"\"\"\n",
    "df1.columns"
   ]
  },
  {
   "cell_type": "code",
   "execution_count": 166,
   "metadata": {},
   "outputs": [],
   "source": [
    "# I keep only the columns i need\n",
    "df1 = df1.drop([\n",
    "    'survey_year',\n",
    "    'timestamp',\n",
    "    'primarydatabase',\n",
    "    'yearswiththisdatabase',\n",
    "    'otherdatabases',\n",
    "    'databaseservers',\n",
    "    'education',\n",
    "    'educationiscomputerrelated',\n",
    "    'certifications',\n",
    "    'hoursworkedperweek',\n",
    "    'telecommutedaysperweek',\n",
    "    'newestversioninproduction',\n",
    "    'oldestversioninproduction',\n",
    "    'kindsoftasksperformed',\n",
    "    'counter'\n",
    "], axis=1)"
   ]
  },
  {
   "cell_type": "markdown",
   "metadata": {},
   "source": [
    "## Dataframe with only people from USA (since our study is based on people from USA)"
   ]
  },
  {
   "cell_type": "code",
   "execution_count": 167,
   "metadata": {},
   "outputs": [
    {
     "name": "stdout",
     "output_type": "stream",
     "text": [
      "United States    5680\n",
      "Name: country, dtype: int64\n"
     ]
    }
   ],
   "source": [
    "df1 = df1[df1['country'] == \"United States\"]\n",
    "print(df1['country'].value_counts())"
   ]
  },
  {
   "cell_type": "markdown",
   "metadata": {},
   "source": [
    "# 2. Checking for missing values"
   ]
  },
  {
   "cell_type": "code",
   "execution_count": 168,
   "metadata": {},
   "outputs": [
    {
     "name": "stdout",
     "output_type": "stream",
     "text": [
      "salaryusd                                 0\n",
      "country                                   0\n",
      "postalcode                              466\n",
      "employmentstatus                          0\n",
      "jobtitle                                  0\n",
      "managestaff                               0\n",
      "yearswiththistypeofjob                    0\n",
      "howmanycompanies                          0\n",
      "otherpeopleonyourteam                     0\n",
      "companyemployeesoverall                   0\n",
      "populationoflargestcitywithin20miles      0\n",
      "employmentsector                          0\n",
      "lookingforanotherjob                      0\n",
      "careerplansthisyear                       0\n",
      "gender                                    0\n",
      "otherjobduties                          385\n",
      "dtype: int64\n",
      "(5680, 16)\n"
     ]
    }
   ],
   "source": [
    "print(df1.isnull().sum())\n",
    "print(df1.shape)"
   ]
  },
  {
   "cell_type": "markdown",
   "metadata": {},
   "source": [
    "We are missing **466** values for postalcode and **385** for otherjobduties with a total of **5680** rows. Those two columns are not really pertinent for our analysis. It's pretty much useless to delete all the rows for them."
   ]
  },
  {
   "cell_type": "markdown",
   "metadata": {},
   "source": [
    "## Traitement des valeurs manquantes"
   ]
  },
  {
   "cell_type": "markdown",
   "metadata": {},
   "source": [
    "### Traitement de ***Postalcode***"
   ]
  },
  {
   "cell_type": "markdown",
   "metadata": {},
   "source": [
    "It doesn't make sense to fill missing postalcode values with another postal code from USA since there is no generic postal code."
   ]
  },
  {
   "cell_type": "markdown",
   "metadata": {},
   "source": [
    "### Traitement de ***otherjobduties***"
   ]
  },
  {
   "cell_type": "code",
   "execution_count": 169,
   "metadata": {},
   "outputs": [
    {
     "name": "stdout",
     "output_type": "stream",
     "text": [
      "Not Asked                                                                                                                                                                                                                                                            3050\n",
      "DBA (Development Focus - tunes queries, indexes, does deployments)                                                                                                                                                                                                    163\n",
      "Developer: T-SQL                                                                                                                                                                                                                                                      136\n",
      "DBA (General - splits time evenly between writing & tuning queries AND building & troubleshooting servers)                                                                                                                                                             86\n",
      "DBA (Production Focus - build & troubleshoot servers, HA/DR)                                                                                                                                                                                                           81\n",
      "                                                                                                                                                                                                                                                                     ... \n",
      "Analyst, DBA (Development Focus - tunes queries, indexes, does deployments), Developer: App code (C#, JS, etc), Developer: Business Intelligence (SSRS, PowerBI, etc), Engineer                                                                                         1\n",
      "DBA (General - splits time evenly between writing & tuning queries AND building & troubleshooting servers), Developer: App code (C#, JS, etc), Developer: Business Intelligence (SSRS, PowerBI, etc), Developer: T-SQL, Manager                                         1\n",
      "Architect, DBA (Development Focus - tunes queries, indexes, does deployments), DBA (Production Focus - build & troubleshoot servers, HA/DR), Developer: Business Intelligence (SSRS, PowerBI, etc), Developer: T-SQL, Engineer                                          1\n",
      "Architect, Data Scientist, Developer: App code (C#, JS, etc), Engineer, Manager                                                                                                                                                                                         1\n",
      "Analyst, Architect, DBA (Development Focus - tunes queries, indexes, does deployments), DBA (General - splits time evenly between writing & tuning queries AND building & troubleshooting servers), Developer: App code (C#, JS, etc), Developer: T-SQL, Engineer       1\n",
      "Name: otherjobduties, Length: 462, dtype: int64\n"
     ]
    }
   ],
   "source": [
    "print(df1.otherjobduties.value_counts())"
   ]
  },
  {
   "cell_type": "markdown",
   "metadata": {},
   "source": [
    "There are **462** differents categories for otherjobduties. Since there are that much differents values for otherjobduties it's hard to attribute a value for the missing cells. We notice that there is a category named \"Not asked\". We could assume that there are missing values because the people who answered the survey forgot to fill this field. Anyway filling the missing values with \"Not asked\" could be a solution if we really want a clean dataset and it wouldn't biais our observations."
   ]
  },
  {
   "cell_type": "code",
   "execution_count": 170,
   "metadata": {},
   "outputs": [
    {
     "name": "stdout",
     "output_type": "stream",
     "text": [
      "salaryusd                                 0\n",
      "country                                   0\n",
      "postalcode                              466\n",
      "employmentstatus                          0\n",
      "jobtitle                                  0\n",
      "managestaff                               0\n",
      "yearswiththistypeofjob                    0\n",
      "howmanycompanies                          0\n",
      "otherpeopleonyourteam                     0\n",
      "companyemployeesoverall                   0\n",
      "populationoflargestcitywithin20miles      0\n",
      "employmentsector                          0\n",
      "lookingforanotherjob                      0\n",
      "careerplansthisyear                       0\n",
      "gender                                    0\n",
      "otherjobduties                            0\n",
      "dtype: int64\n"
     ]
    },
    {
     "data": {
      "text/html": "<div>\n<style scoped>\n    .dataframe tbody tr th:only-of-type {\n        vertical-align: middle;\n    }\n\n    .dataframe tbody tr th {\n        vertical-align: top;\n    }\n\n    .dataframe thead th {\n        text-align: right;\n    }\n</style>\n<table border=\"1\" class=\"dataframe\">\n  <thead>\n    <tr style=\"text-align: right;\">\n      <th></th>\n      <th>salaryusd</th>\n      <th>country</th>\n      <th>postalcode</th>\n      <th>employmentstatus</th>\n      <th>jobtitle</th>\n      <th>managestaff</th>\n      <th>yearswiththistypeofjob</th>\n      <th>howmanycompanies</th>\n      <th>otherpeopleonyourteam</th>\n      <th>companyemployeesoverall</th>\n      <th>populationoflargestcitywithin20miles</th>\n      <th>employmentsector</th>\n      <th>lookingforanotherjob</th>\n      <th>careerplansthisyear</th>\n      <th>gender</th>\n      <th>otherjobduties</th>\n    </tr>\n  </thead>\n  <tbody>\n    <tr>\n      <th>0</th>\n      <td>115000.0</td>\n      <td>United States</td>\n      <td>03</td>\n      <td>Full time employee</td>\n      <td>DBA (Production Focus - build &amp; troubleshoot s...</td>\n      <td>No</td>\n      <td>5</td>\n      <td>1 (this is the only company where I've had thi...</td>\n      <td>2</td>\n      <td>Not Asked</td>\n      <td>20K-99K (large town)</td>\n      <td>Private business</td>\n      <td>Not Asked</td>\n      <td>Stay with the same employer, same role</td>\n      <td>Male</td>\n      <td>Not Asked</td>\n    </tr>\n    <tr>\n      <th>1</th>\n      <td>100000.0</td>\n      <td>United States</td>\n      <td>None</td>\n      <td>Full time employee</td>\n      <td>Developer: App code (C#, JS, etc)</td>\n      <td>No</td>\n      <td>6</td>\n      <td>1 (this is the only company where I've had thi...</td>\n      <td>More than 5</td>\n      <td>Not Asked</td>\n      <td>1M+ (metropolis)</td>\n      <td>Private business</td>\n      <td>Not Asked</td>\n      <td>Prefer not to say</td>\n      <td>Male</td>\n      <td>Not Asked</td>\n    </tr>\n    <tr>\n      <th>3</th>\n      <td>70000.0</td>\n      <td>United States</td>\n      <td>94133</td>\n      <td>Full time employee</td>\n      <td>Analyst</td>\n      <td>No</td>\n      <td>3</td>\n      <td>1 (this is the only company where I've had thi...</td>\n      <td>2</td>\n      <td>Not Asked</td>\n      <td>1M+ (metropolis)</td>\n      <td>Private business</td>\n      <td>Not Asked</td>\n      <td>Change both employers and roles</td>\n      <td>Male</td>\n      <td>Not Asked</td>\n    </tr>\n    <tr>\n      <th>4</th>\n      <td>110000.0</td>\n      <td>United States</td>\n      <td>95354</td>\n      <td>Full time employee</td>\n      <td>DBA (General - splits time evenly between writ...</td>\n      <td>No</td>\n      <td>25</td>\n      <td>3</td>\n      <td>None</td>\n      <td>Not Asked</td>\n      <td>100K-299K (city)</td>\n      <td>Non-profit</td>\n      <td>Not Asked</td>\n      <td>Stay with the same employer, same role</td>\n      <td>Male</td>\n      <td>Not Asked</td>\n    </tr>\n    <tr>\n      <th>5</th>\n      <td>79500.0</td>\n      <td>United States</td>\n      <td>78727</td>\n      <td>Full time employee</td>\n      <td>Analyst</td>\n      <td>No</td>\n      <td>2</td>\n      <td>1 (this is the only company where I've had thi...</td>\n      <td>None</td>\n      <td>Not Asked</td>\n      <td>1M+ (metropolis)</td>\n      <td>Private business</td>\n      <td>Not Asked</td>\n      <td>Stay with the same employer, same role</td>\n      <td>Male</td>\n      <td>Not Asked</td>\n    </tr>\n  </tbody>\n</table>\n</div>",
      "text/plain": "   salaryusd        country postalcode    employmentstatus  \\\n0   115000.0  United States         03  Full time employee   \n1   100000.0  United States       None  Full time employee   \n3    70000.0  United States      94133  Full time employee   \n4   110000.0  United States      95354  Full time employee   \n5    79500.0  United States      78727  Full time employee   \n\n                                            jobtitle managestaff  \\\n0  DBA (Production Focus - build & troubleshoot s...          No   \n1                  Developer: App code (C#, JS, etc)          No   \n3                                            Analyst          No   \n4  DBA (General - splits time evenly between writ...          No   \n5                                            Analyst          No   \n\n   yearswiththistypeofjob                                   howmanycompanies  \\\n0                       5  1 (this is the only company where I've had thi...   \n1                       6  1 (this is the only company where I've had thi...   \n3                       3  1 (this is the only company where I've had thi...   \n4                      25                                                  3   \n5                       2  1 (this is the only company where I've had thi...   \n\n  otherpeopleonyourteam companyemployeesoverall  \\\n0                     2               Not Asked   \n1           More than 5               Not Asked   \n3                     2               Not Asked   \n4                  None               Not Asked   \n5                  None               Not Asked   \n\n  populationoflargestcitywithin20miles  employmentsector lookingforanotherjob  \\\n0                 20K-99K (large town)  Private business            Not Asked   \n1                     1M+ (metropolis)  Private business            Not Asked   \n3                     1M+ (metropolis)  Private business            Not Asked   \n4                     100K-299K (city)        Non-profit            Not Asked   \n5                     1M+ (metropolis)  Private business            Not Asked   \n\n                      careerplansthisyear gender otherjobduties  \n0  Stay with the same employer, same role   Male      Not Asked  \n1                       Prefer not to say   Male      Not Asked  \n3         Change both employers and roles   Male      Not Asked  \n4  Stay with the same employer, same role   Male      Not Asked  \n5  Stay with the same employer, same role   Male      Not Asked  "
     },
     "execution_count": 170,
     "metadata": {},
     "output_type": "execute_result"
    }
   ],
   "source": [
    "# We fill the missing values for the otherjobduties with 'Not Asked'\n",
    "df1['otherjobduties'] = df1['otherjobduties'].fillna('Not Asked')\n",
    "print(df1.isnull().sum())\n",
    "df1.head()"
   ]
  },
  {
   "cell_type": "markdown",
   "metadata": {},
   "source": [
    "## 3. Traitement des dates"
   ]
  },
  {
   "cell_type": "code",
   "execution_count": 171,
   "metadata": {},
   "outputs": [
    {
     "name": "stdout",
     "output_type": "stream",
     "text": [
      "salaryusd                               float64\n",
      "country                                  object\n",
      "postalcode                               object\n",
      "employmentstatus                         object\n",
      "jobtitle                                 object\n",
      "managestaff                              object\n",
      "yearswiththistypeofjob                    int64\n",
      "howmanycompanies                         object\n",
      "otherpeopleonyourteam                    object\n",
      "companyemployeesoverall                  object\n",
      "populationoflargestcitywithin20miles     object\n",
      "employmentsector                         object\n",
      "lookingforanotherjob                     object\n",
      "careerplansthisyear                      object\n",
      "gender                                   object\n",
      "otherjobduties                           object\n",
      "dtype: object\n"
     ]
    }
   ],
   "source": [
    "print(df1.dtypes)"
   ]
  },
  {
   "cell_type": "markdown",
   "metadata": {},
   "source": [
    "None of the column is relating to a date. I don't have to do any data processing here."
   ]
  },
  {
   "cell_type": "markdown",
   "metadata": {},
   "source": [
    "# Traitement des genres"
   ]
  },
  {
   "cell_type": "code",
   "execution_count": 172,
   "metadata": {},
   "outputs": [
    {
     "data": {
      "text/plain": "Male      3281\nOther     1942\nFemale     457\nName: gender, dtype: int64"
     },
     "execution_count": 172,
     "metadata": {},
     "output_type": "execute_result"
    }
   ],
   "source": [
    "# Set \"Gender\" = \"Other\" if it is not male or female\"\n",
    "df1.loc[~df1[\"gender\"].isin([\"Male\", \"Female\"]), \"gender\"] = \"Other\"\n",
    "\n",
    "df1['gender'].value_counts()"
   ]
  },
  {
   "cell_type": "markdown",
   "metadata": {},
   "source": [
    "# Renaming job titles"
   ]
  },
  {
   "cell_type": "code",
   "execution_count": 173,
   "metadata": {},
   "outputs": [
    {
     "data": {
      "text/plain": "Database Admin    2814\nDeveloper         1245\nArchitect          473\nManager            385\nAnalyst            352\nEngineer           276\nOther               98\nData Scientist      37\nName: jobtitle, dtype: int64"
     },
     "execution_count": 173,
     "metadata": {},
     "output_type": "execute_result"
    }
   ],
   "source": [
    "df1[\"jobtitle\"] = df1[\"jobtitle\"].apply(lambda x: \"Database Admin\" if x.startswith('DBA') else x)\n",
    "\n",
    "# Rename all jobtitles that start with Developer as Developer\n",
    "df1[\"jobtitle\"] = df1[\"jobtitle\"].apply(lambda x: \"Developer\" if x.startswith('Developer') else x)\n",
    "\n",
    "value_count_df = df1[\"jobtitle\"].value_counts()\n",
    "\n",
    "# Rename all jobtitles that appear less than three time with Other\n",
    "df1.loc[df1[\"jobtitle\"].isin(value_count_df[(value_count_df < 3)].index), \"jobtitle\"] = \"Other\"\n",
    "\n",
    "df1['jobtitle'].value_counts()"
   ]
  },
  {
   "cell_type": "markdown",
   "metadata": {},
   "source": [
    "# Rework on howmanycompanies column"
   ]
  },
  {
   "cell_type": "code",
   "execution_count": 174,
   "metadata": {},
   "outputs": [
    {
     "data": {
      "text/plain": "Not Asked    3907\n1             621\n2             527\n3             315\n4             122\n6+            102\n5              86\nName: howmanycompanies, dtype: int64"
     },
     "execution_count": 174,
     "metadata": {},
     "output_type": "execute_result"
    }
   ],
   "source": [
    "df1['howmanycompanies'].value_counts()\n",
    "df1['howmanycompanies'] = df1[\"howmanycompanies\"].apply(lambda x: x.split(\"(\")[0])\n",
    "df1['howmanycompanies'] = df1[\"howmanycompanies\"].apply(lambda x: \"6+\" if \"6\" in x else x)\n",
    "df1['howmanycompanies'].value_counts()"
   ]
  },
  {
   "cell_type": "markdown",
   "metadata": {},
   "source": [
    "## 4. Traitement des doublons"
   ]
  },
  {
   "cell_type": "code",
   "execution_count": 175,
   "metadata": {},
   "outputs": [
    {
     "name": "stdout",
     "output_type": "stream",
     "text": [
      "(5680, 16)\n",
      "False    5619\n",
      "True       61\n",
      "dtype: int64\n"
     ]
    }
   ],
   "source": [
    "print(df1.shape)\n",
    "print(df1.duplicated().value_counts())"
   ]
  },
  {
   "cell_type": "markdown",
   "metadata": {},
   "source": [
    "60 of the rows in my dataset has duplicate values. Let's drop them."
   ]
  },
  {
   "cell_type": "code",
   "execution_count": 176,
   "metadata": {},
   "outputs": [
    {
     "name": "stdout",
     "output_type": "stream",
     "text": [
      "(5619, 16)\n"
     ]
    }
   ],
   "source": [
    "df1 = df1.drop_duplicates()\n",
    "print(df1.shape)"
   ]
  },
  {
   "cell_type": "markdown",
   "metadata": {},
   "source": [
    "## Outliers detection with boxplot"
   ]
  },
  {
   "cell_type": "code",
   "execution_count": 177,
   "metadata": {},
   "outputs": [
    {
     "data": {
      "image/png": "[encoded data removed]",
      "text/plain": "<Figure size 432x288 with 1 Axes>"
     },
     "metadata": {},
     "output_type": "display_data"
    }
   ],
   "source": [
    "sns.set_theme(style=\"whitegrid\")\n",
    "ax = sns.boxplot(x=df1[\"salaryusd\"])"
   ]
  },
  {
   "cell_type": "code",
   "execution_count": 178,
   "metadata": {},
   "outputs": [
    {
     "data": {
      "text/plain": "count      5593.000000\nmean     106365.748614\nstd       34256.961212\nmin       11100.000000\n25%       85000.000000\n50%      103000.000000\n75%      125000.000000\nmax      350000.000000\nName: salaryusd, dtype: float64"
     },
     "execution_count": 178,
     "metadata": {},
     "output_type": "execute_result"
    },
    {
     "data": {
      "image/png": "[encoded data removed]",
      "text/plain": "<Figure size 432x288 with 1 Axes>"
     },
     "metadata": {},
     "output_type": "display_data"
    }
   ],
   "source": [
    "df1 = df1[df1['salaryusd'] > 10000]\n",
    "df1 = df1[df1['salaryusd'] < 360000]\n",
    "ax = sns.boxplot(x=df1[\"salaryusd\"])\n",
    "df1['salaryusd'].describe()\n",
    "\n"
   ]
  },
  {
   "cell_type": "code",
   "execution_count": 179,
   "metadata": {},
   "outputs": [],
   "source": [
    "save_to_database('../Data/02_intermediate/american_dream_v2.db','salary_survey', df1, True)"
   ]
  }
 ],
 "metadata": {
  "kernelspec": {
   "display_name": "Python 3.8.8 64-bit ('base': conda)",
   "metadata": {
    "interpreter": {
     "hash": "5b9c502b618e97131917a2f1409b4700bb639cdf99ce16cd88a0e27a90524386"
    }
   },
   "name": "python3"
  },
  "language_info": {
   "codemirror_mode": {
    "name": "ipython",
    "version": 3
   },
   "file_extension": ".py",
   "mimetype": "text/x-python",
   "name": "python",
   "nbconvert_exporter": "python",
   "pygments_lexer": "ipython3",
   "version": "3.8.8"
  },
  "orig_nbformat": 2
 },
 "nbformat": 4,
 "nbformat_minor": 2
}